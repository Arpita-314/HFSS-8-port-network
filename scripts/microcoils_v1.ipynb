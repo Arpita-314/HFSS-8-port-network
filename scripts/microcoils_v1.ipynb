{
 "cells": [
  {
   "cell_type": "code",
   "execution_count": 1,
   "id": "7e847fe8-9e02-4d3d-9784-06773c732894",
   "metadata": {},
   "outputs": [
    {
     "name": "stdout",
     "output_type": "stream",
     "text": [
      "Requirement already satisfied: pyaedt in c:\\users\\go29lap\\appdata\\roaming\\.pyaedt_env\\3_10\\lib\\site-packages (0.9.8)\n",
      "Requirement already satisfied: fpdf2 in c:\\users\\go29lap\\appdata\\roaming\\.pyaedt_env\\3_10\\lib\\site-packages (from pyaedt) (2.7.9)\n",
      "Requirement already satisfied: jsonschema in c:\\users\\go29lap\\appdata\\roaming\\.pyaedt_env\\3_10\\lib\\site-packages (from pyaedt) (4.23.0)\n",
      "Requirement already satisfied: psutil in c:\\users\\go29lap\\appdata\\roaming\\.pyaedt_env\\3_10\\lib\\site-packages (from pyaedt) (6.0.0)\n",
      "Requirement already satisfied: pyedb>=0.4.0 in c:\\users\\go29lap\\appdata\\roaming\\.pyaedt_env\\3_10\\lib\\site-packages (from pyaedt) (0.18.0)\n",
      "Requirement already satisfied: pytomlpp in c:\\users\\go29lap\\appdata\\roaming\\.pyaedt_env\\3_10\\lib\\site-packages (from pyaedt) (1.0.13)\n",
      "Requirement already satisfied: rpyc<6.1,>=6.0.0 in c:\\users\\go29lap\\appdata\\roaming\\.pyaedt_env\\3_10\\lib\\site-packages (from pyaedt) (6.0.0)\n",
      "Requirement already satisfied: pywin32>=303 in c:\\users\\go29lap\\appdata\\roaming\\.pyaedt_env\\3_10\\lib\\site-packages (from pyedb>=0.4.0->pyaedt) (306)\n",
      "Requirement already satisfied: ansys-pythonnet>=3.1.0rc3 in c:\\users\\go29lap\\appdata\\roaming\\.pyaedt_env\\3_10\\lib\\site-packages (from pyedb>=0.4.0->pyaedt) (3.1.0rc3)\n",
      "Requirement already satisfied: pydantic<2.8,>=2.6.4 in c:\\users\\go29lap\\appdata\\roaming\\.pyaedt_env\\3_10\\lib\\site-packages (from pyedb>=0.4.0->pyaedt) (2.7.4)\n",
      "Requirement already satisfied: toml==0.10.2 in c:\\users\\go29lap\\appdata\\roaming\\.pyaedt_env\\3_10\\lib\\site-packages (from pyedb>=0.4.0->pyaedt) (0.10.2)\n",
      "Requirement already satisfied: Rtree>=1.2.0 in c:\\users\\go29lap\\appdata\\roaming\\.pyaedt_env\\3_10\\lib\\site-packages (from pyedb>=0.4.0->pyaedt) (1.2.0)\n",
      "Requirement already satisfied: numpy<2,>=1.20.0 in c:\\users\\go29lap\\appdata\\roaming\\.pyaedt_env\\3_10\\lib\\site-packages (from pyedb>=0.4.0->pyaedt) (1.26.4)\n",
      "Requirement already satisfied: plumbum in c:\\users\\go29lap\\appdata\\roaming\\.pyaedt_env\\3_10\\lib\\site-packages (from rpyc<6.1,>=6.0.0->pyaedt) (1.8.3)\n",
      "Requirement already satisfied: defusedxml in c:\\users\\go29lap\\appdata\\roaming\\.pyaedt_env\\3_10\\lib\\site-packages (from fpdf2->pyaedt) (0.7.1)\n",
      "Requirement already satisfied: Pillow!=9.2.*,>=6.2.2 in c:\\users\\go29lap\\appdata\\roaming\\.pyaedt_env\\3_10\\lib\\site-packages (from fpdf2->pyaedt) (10.4.0)\n",
      "Requirement already satisfied: fonttools>=4.34.0 in c:\\users\\go29lap\\appdata\\roaming\\.pyaedt_env\\3_10\\lib\\site-packages (from fpdf2->pyaedt) (4.53.1)\n",
      "Requirement already satisfied: attrs>=22.2.0 in c:\\users\\go29lap\\appdata\\roaming\\.pyaedt_env\\3_10\\lib\\site-packages (from jsonschema->pyaedt) (23.2.0)\n",
      "Requirement already satisfied: jsonschema-specifications>=2023.03.6 in c:\\users\\go29lap\\appdata\\roaming\\.pyaedt_env\\3_10\\lib\\site-packages (from jsonschema->pyaedt) (2023.12.1)\n",
      "Requirement already satisfied: referencing>=0.28.4 in c:\\users\\go29lap\\appdata\\roaming\\.pyaedt_env\\3_10\\lib\\site-packages (from jsonschema->pyaedt) (0.35.1)\n",
      "Requirement already satisfied: rpds-py>=0.7.1 in c:\\users\\go29lap\\appdata\\roaming\\.pyaedt_env\\3_10\\lib\\site-packages (from jsonschema->pyaedt) (0.19.0)\n",
      "Requirement already satisfied: clr-loader<0.3.0,>=0.2.6 in c:\\users\\go29lap\\appdata\\roaming\\.pyaedt_env\\3_10\\lib\\site-packages (from ansys-pythonnet>=3.1.0rc3->pyedb>=0.4.0->pyaedt) (0.2.6)\n",
      "Requirement already satisfied: annotated-types>=0.4.0 in c:\\users\\go29lap\\appdata\\roaming\\.pyaedt_env\\3_10\\lib\\site-packages (from pydantic<2.8,>=2.6.4->pyedb>=0.4.0->pyaedt) (0.7.0)\n",
      "Requirement already satisfied: pydantic-core==2.18.4 in c:\\users\\go29lap\\appdata\\roaming\\.pyaedt_env\\3_10\\lib\\site-packages (from pydantic<2.8,>=2.6.4->pyedb>=0.4.0->pyaedt) (2.18.4)\n",
      "Requirement already satisfied: typing-extensions>=4.6.1 in c:\\users\\go29lap\\appdata\\roaming\\.pyaedt_env\\3_10\\lib\\site-packages (from pydantic<2.8,>=2.6.4->pyedb>=0.4.0->pyaedt) (4.12.2)\n",
      "Requirement already satisfied: cffi>=1.13 in c:\\users\\go29lap\\appdata\\roaming\\.pyaedt_env\\3_10\\lib\\site-packages (from clr-loader<0.3.0,>=0.2.6->ansys-pythonnet>=3.1.0rc3->pyedb>=0.4.0->pyaedt) (1.16.0)\n",
      "Requirement already satisfied: pycparser in c:\\users\\go29lap\\appdata\\roaming\\.pyaedt_env\\3_10\\lib\\site-packages (from cffi>=1.13->clr-loader<0.3.0,>=0.2.6->ansys-pythonnet>=3.1.0rc3->pyedb>=0.4.0->pyaedt) (2.22)\n",
      "Note: you may need to restart the kernel to use updated packages.\n"
     ]
    }
   ],
   "source": [
    "pip install pyaedt"
   ]
  },
  {
   "cell_type": "code",
   "execution_count": 20,
   "id": "9f54fb91-0c18-42ce-9761-bcef9ac4a6e6",
   "metadata": {},
   "outputs": [
    {
     "name": "stdout",
     "output_type": "stream",
     "text": [
      "PyAEDT INFO: Initializing new Desktop session.\n",
      "PyAEDT WARNING: Argument `specified_version` is deprecated for method `__init__`; use `version` instead.\n",
      "PyAEDT WARNING: Argument `new_desktop_session` is deprecated for method `__init__`; use `new_desktop` instead.\n",
      "PyAEDT INFO: StdOut is enabled\n",
      "PyAEDT INFO: Log on file is enabled\n",
      "PyAEDT INFO: Log on Desktop Message Manager is enabled\n",
      "PyAEDT INFO: Debug logger is disabled. PyAEDT methods will not be logged.\n",
      "PyAEDT ERROR: **************************************************************\n",
      "PyAEDT ERROR:   File \"C:\\Program Files\\AnsysEM\\Ansys Student\\v232\\Win64\\commonfiles\\CPython\\3_10\\winx64\\Release\\python\\lib\\runpy.py\", line 196, in _run_module_as_main\n",
      "PyAEDT ERROR:     return _run_code(code, main_globals, None,\n",
      "PyAEDT ERROR:   File \"C:\\Program Files\\AnsysEM\\Ansys Student\\v232\\Win64\\commonfiles\\CPython\\3_10\\winx64\\Release\\python\\lib\\runpy.py\", line 86, in _run_code\n",
      "PyAEDT ERROR:     exec(code, run_globals)\n",
      "PyAEDT ERROR:   File \"C:\\Users\\go29lap\\AppData\\Roaming\\.pyaedt_env\\3_10\\lib\\site-packages\\ipykernel_launcher.py\", line 18, in <module>\n",
      "PyAEDT ERROR:     app.launch_new_instance()\n",
      "PyAEDT ERROR:   File \"C:\\Users\\go29lap\\AppData\\Roaming\\.pyaedt_env\\3_10\\lib\\site-packages\\traitlets\\config\\application.py\", line 1075, in launch_instance\n",
      "PyAEDT ERROR:     app.start()\n",
      "PyAEDT ERROR:   File \"C:\\Users\\go29lap\\AppData\\Roaming\\.pyaedt_env\\3_10\\lib\\site-packages\\ipykernel\\kernelapp.py\", line 739, in start\n",
      "PyAEDT ERROR:     self.io_loop.start()\n",
      "PyAEDT ERROR:   File \"C:\\Users\\go29lap\\AppData\\Roaming\\.pyaedt_env\\3_10\\lib\\site-packages\\tornado\\platform\\asyncio.py\", line 205, in start\n",
      "PyAEDT ERROR:     self.asyncio_loop.run_forever()\n",
      "PyAEDT ERROR:   File \"C:\\Program Files\\AnsysEM\\Ansys Student\\v232\\Win64\\commonfiles\\CPython\\3_10\\winx64\\Release\\python\\lib\\asyncio\\base_events.py\", line 603, in run_forever\n",
      "PyAEDT ERROR:     self._run_once()\n",
      "PyAEDT ERROR:   File \"C:\\Program Files\\AnsysEM\\Ansys Student\\v232\\Win64\\commonfiles\\CPython\\3_10\\winx64\\Release\\python\\lib\\asyncio\\base_events.py\", line 1906, in _run_once\n",
      "PyAEDT ERROR:     handle._run()\n",
      "PyAEDT ERROR:   File \"C:\\Program Files\\AnsysEM\\Ansys Student\\v232\\Win64\\commonfiles\\CPython\\3_10\\winx64\\Release\\python\\lib\\asyncio\\events.py\", line 80, in _run\n",
      "PyAEDT ERROR:     self._context.run(self._callback, *self._args)\n",
      "PyAEDT ERROR:   File \"C:\\Users\\go29lap\\AppData\\Roaming\\.pyaedt_env\\3_10\\lib\\site-packages\\ipykernel\\kernelbase.py\", line 545, in dispatch_queue\n",
      "PyAEDT ERROR:     await self.process_one()\n",
      "PyAEDT ERROR:   File \"C:\\Users\\go29lap\\AppData\\Roaming\\.pyaedt_env\\3_10\\lib\\site-packages\\ipykernel\\kernelbase.py\", line 534, in process_one\n",
      "PyAEDT ERROR:     await dispatch(*args)\n",
      "PyAEDT ERROR:   File \"C:\\Users\\go29lap\\AppData\\Roaming\\.pyaedt_env\\3_10\\lib\\site-packages\\ipykernel\\kernelbase.py\", line 437, in dispatch_shell\n",
      "PyAEDT ERROR:     await result\n",
      "PyAEDT ERROR:   File \"C:\\Users\\go29lap\\AppData\\Roaming\\.pyaedt_env\\3_10\\lib\\site-packages\\ipykernel\\ipkernel.py\", line 362, in execute_request\n",
      "PyAEDT ERROR:     await super().execute_request(stream, ident, parent)\n",
      "PyAEDT ERROR:   File \"C:\\Users\\go29lap\\AppData\\Roaming\\.pyaedt_env\\3_10\\lib\\site-packages\\ipykernel\\kernelbase.py\", line 778, in execute_request\n",
      "PyAEDT ERROR:     reply_content = await reply_content\n",
      "PyAEDT ERROR:   File \"C:\\Users\\go29lap\\AppData\\Roaming\\.pyaedt_env\\3_10\\lib\\site-packages\\ipykernel\\ipkernel.py\", line 449, in do_execute\n",
      "PyAEDT ERROR:     res = shell.run_cell(\n",
      "PyAEDT ERROR:   File \"C:\\Users\\go29lap\\AppData\\Roaming\\.pyaedt_env\\3_10\\lib\\site-packages\\ipykernel\\zmqshell.py\", line 549, in run_cell\n",
      "PyAEDT ERROR:     return super().run_cell(*args, **kwargs)\n",
      "PyAEDT ERROR:   File \"C:\\Users\\go29lap\\AppData\\Local\\Temp\\ipykernel_3864\\694253896.py\", line 4, in <module>\n",
      "PyAEDT ERROR:     desktop = Desktop(specified_version=\"2023.1\", non_graphical=False, new_desktop_session=True)\n",
      "PyAEDT ERROR:   File \"C:\\Users\\go29lap\\AppData\\Roaming\\.pyaedt_env\\3_10\\lib\\site-packages\\pyaedt\\desktop.py\", line 593, in __init__\n",
      "PyAEDT ERROR:     student_version_flag, version_key, version = self._assert_version(version, student_version)\n",
      "PyAEDT ERROR:   File \"C:\\Users\\go29lap\\AppData\\Roaming\\.pyaedt_env\\3_10\\lib\\site-packages\\pyaedt\\desktop.py\", line 884, in _assert_version\n",
      "PyAEDT ERROR:     raise ValueError(\n",
      "PyAEDT ERROR: Specified version 2023.2 is not installed on your system on __init__\n",
      "PyAEDT ERROR: Method arguments: \n",
      "PyAEDT ERROR:     version = 2023.1 \n",
      "PyAEDT ERROR:     new_desktop = True \n",
      "PyAEDT ERROR: **************************************************************\n"
     ]
    },
    {
     "ename": "TypeError",
     "evalue": "__init__() should return None, not 'bool'",
     "output_type": "error",
     "traceback": [
      "\u001b[1;31m---------------------------------------------------------------------------\u001b[0m",
      "\u001b[1;31mTypeError\u001b[0m                                 Traceback (most recent call last)",
      "Cell \u001b[1;32mIn[20], line 4\u001b[0m\n\u001b[0;32m      1\u001b[0m \u001b[38;5;28;01mfrom\u001b[39;00m \u001b[38;5;21;01mpyaedt\u001b[39;00m \u001b[38;5;28;01mimport\u001b[39;00m Desktop, Hfss\n\u001b[0;32m      3\u001b[0m \u001b[38;5;66;03m# Initialize AEDT Desktop\u001b[39;00m\n\u001b[1;32m----> 4\u001b[0m desktop \u001b[38;5;241m=\u001b[39m \u001b[43mDesktop\u001b[49m\u001b[43m(\u001b[49m\u001b[43mspecified_version\u001b[49m\u001b[38;5;241;43m=\u001b[39;49m\u001b[38;5;124;43m\"\u001b[39;49m\u001b[38;5;124;43m2023.1\u001b[39;49m\u001b[38;5;124;43m\"\u001b[39;49m\u001b[43m,\u001b[49m\u001b[43m \u001b[49m\u001b[43mnon_graphical\u001b[49m\u001b[38;5;241;43m=\u001b[39;49m\u001b[38;5;28;43;01mFalse\u001b[39;49;00m\u001b[43m,\u001b[49m\u001b[43m \u001b[49m\u001b[43mnew_desktop_session\u001b[49m\u001b[38;5;241;43m=\u001b[39;49m\u001b[38;5;28;43;01mTrue\u001b[39;49;00m\u001b[43m)\u001b[49m\n\u001b[0;32m      6\u001b[0m \u001b[38;5;66;03m# Launch HFSS\u001b[39;00m\n\u001b[0;32m      7\u001b[0m hfss \u001b[38;5;241m=\u001b[39m Hfss()\n",
      "\u001b[1;31mTypeError\u001b[0m: __init__() should return None, not 'bool'"
     ]
    }
   ],
   "source": [
    "from pyaedt import Desktop, Hfss\n",
    "\n",
    "# Initialize AEDT Desktop\n",
    "desktop = Desktop(specified_version=\"2023.1\", non_graphical=False, new_desktop_session=True)\n",
    "\n",
    "# Launch HFSS\n",
    "hfss = Hfss()\n"
   ]
  },
  {
   "cell_type": "markdown",
   "id": "6b8a848f-1ec6-4b41-b5c2-5d9a182cbd09",
   "metadata": {},
   "source": [
    "### Step 2: Import and Setup Your Geometry"
   ]
  },
  {
   "cell_type": "code",
   "execution_count": 19,
   "id": "4cc645b6-d828-4c91-ad59-c8abd40e7385",
   "metadata": {},
   "outputs": [
    {
     "ename": "NameError",
     "evalue": "name 'hfss' is not defined",
     "output_type": "error",
     "traceback": [
      "\u001b[1;31m---------------------------------------------------------------------------\u001b[0m",
      "\u001b[1;31mNameError\u001b[0m                                 Traceback (most recent call last)",
      "Cell \u001b[1;32mIn[19], line 2\u001b[0m\n\u001b[0;32m      1\u001b[0m \u001b[38;5;66;03m# Import your model (ensure your file path and format are correct)\u001b[39;00m\n\u001b[1;32m----> 2\u001b[0m \u001b[43mhfss\u001b[49m\u001b[38;5;241m.\u001b[39mmodeler\u001b[38;5;241m.\u001b[39mimport_3d_cad(\u001b[38;5;124m\"\u001b[39m\u001b[38;5;124mH:\u001b[39m\u001b[38;5;124m\\\u001b[39m\u001b[38;5;124mThesis\u001b[39m\u001b[38;5;130;01m\\a\u001b[39;00m\u001b[38;5;124mnsys\u001b[39m\u001b[38;5;124m\"\u001b[39m)\n",
      "\u001b[1;31mNameError\u001b[0m: name 'hfss' is not defined"
     ]
    }
   ],
   "source": [
    "# Import your model (ensure your file path and format are correct)\n",
    "hfss.modeler.import_3d_cad(\"H:\\Thesis\\ansys\")"
   ]
  },
  {
   "cell_type": "markdown",
   "id": "3714d673-0b76-467f-9fa9-34ad80a47848",
   "metadata": {},
   "source": [
    "### Step 3: Define Materials"
   ]
  },
  {
   "cell_type": "code",
   "execution_count": 8,
   "id": "3789c19f-2bb2-4050-bd91-7e4f1cf8ae61",
   "metadata": {},
   "outputs": [
    {
     "ename": "NameError",
     "evalue": "name 'hfss' is not defined",
     "output_type": "error",
     "traceback": [
      "\u001b[1;31m---------------------------------------------------------------------------\u001b[0m",
      "\u001b[1;31mNameError\u001b[0m                                 Traceback (most recent call last)",
      "Cell \u001b[1;32mIn[8], line 2\u001b[0m\n\u001b[0;32m      1\u001b[0m \u001b[38;5;66;03m# Define Diamond Material\u001b[39;00m\n\u001b[1;32m----> 2\u001b[0m \u001b[43mhfss\u001b[49m\u001b[38;5;241m.\u001b[39mmaterials\u001b[38;5;241m.\u001b[39madd_material(\u001b[38;5;124m\"\u001b[39m\u001b[38;5;124mDiamond\u001b[39m\u001b[38;5;124m\"\u001b[39m)\n\u001b[0;32m      3\u001b[0m hfss\u001b[38;5;241m.\u001b[39mmaterials[\u001b[38;5;124m\"\u001b[39m\u001b[38;5;124mDiamond\u001b[39m\u001b[38;5;124m\"\u001b[39m]\u001b[38;5;241m.\u001b[39mpermittivity \u001b[38;5;241m=\u001b[39m \u001b[38;5;241m5.7\u001b[39m\n\u001b[0;32m      4\u001b[0m hfss\u001b[38;5;241m.\u001b[39mmaterials[\u001b[38;5;124m\"\u001b[39m\u001b[38;5;124mDiamond\u001b[39m\u001b[38;5;124m\"\u001b[39m]\u001b[38;5;241m.\u001b[39mconductivity \u001b[38;5;241m=\u001b[39m \u001b[38;5;241m1e-12\u001b[39m\n",
      "\u001b[1;31mNameError\u001b[0m: name 'hfss' is not defined"
     ]
    }
   ],
   "source": [
    "# Define Diamond Material\n",
    "hfss.materials.add_material(\"Diamond\")\n",
    "hfss.materials[\"Diamond\"].permittivity = 5.7\n",
    "hfss.materials[\"Diamond\"].conductivity = 1e-12\n",
    "\n",
    "# Assign Material to Substrate\n",
    "hfss.modeler.assign_material([\"YourSubstrateObjectName\"], \"Diamond\")\n",
    "\n",
    "# Define Copper Material\n",
    "hfss.materials.add_material(\"Copper\")\n",
    "hfss.materials[\"Copper\"].conductivity = 5.8e7\n",
    "\n",
    "# Assign Material to Microcoils\n",
    "hfss.modeler.assign_material([\"YourMicrocoilObjectName\"], \"Copper\")\n"
   ]
  },
  {
   "cell_type": "markdown",
   "id": "67d272b1-6fcb-4756-86dd-49879fe6db2f",
   "metadata": {},
   "source": [
    "### Step 4: Setup Excitations"
   ]
  },
  {
   "cell_type": "code",
   "execution_count": 10,
   "id": "63aa6961-d443-420e-8f49-de6979f62e7a",
   "metadata": {},
   "outputs": [
    {
     "ename": "NameError",
     "evalue": "name 'hfss' is not defined",
     "output_type": "error",
     "traceback": [
      "\u001b[1;31m---------------------------------------------------------------------------\u001b[0m",
      "\u001b[1;31mNameError\u001b[0m                                 Traceback (most recent call last)",
      "Cell \u001b[1;32mIn[10], line 2\u001b[0m\n\u001b[0;32m      1\u001b[0m \u001b[38;5;66;03m# Create Lumped Ports (ensure the correct object names and parameters)\u001b[39;00m\n\u001b[1;32m----> 2\u001b[0m \u001b[43mhfss\u001b[49m\u001b[38;5;241m.\u001b[39mcreate_lumped_port_to_sheet(\u001b[38;5;124m\"\u001b[39m\u001b[38;5;124mPort1\u001b[39m\u001b[38;5;124m\"\u001b[39m, hfss\u001b[38;5;241m.\u001b[39mmodeler[\u001b[38;5;124m\"\u001b[39m\u001b[38;5;124mMicrocoilEnd1\u001b[39m\u001b[38;5;124m\"\u001b[39m])\n\u001b[0;32m      3\u001b[0m hfss\u001b[38;5;241m.\u001b[39mcreate_lumped_port_to_sheet(\u001b[38;5;124m\"\u001b[39m\u001b[38;5;124mPort2\u001b[39m\u001b[38;5;124m\"\u001b[39m, hfss\u001b[38;5;241m.\u001b[39mmodeler[\u001b[38;5;124m\"\u001b[39m\u001b[38;5;124mMicrocoilEnd2\u001b[39m\u001b[38;5;124m\"\u001b[39m])\n",
      "\u001b[1;31mNameError\u001b[0m: name 'hfss' is not defined"
     ]
    }
   ],
   "source": [
    "# Create Lumped Ports (ensure the correct object names and parameters)\n",
    "hfss.create_lumped_port_to_sheet(\"Port1\", hfss.modeler[\"MicrocoilEnd1\"])\n",
    "hfss.create_lumped_port_to_sheet(\"Port2\", hfss.modeler[\"MicrocoilEnd2\"])\n"
   ]
  },
  {
   "cell_type": "markdown",
   "id": "d1a97296-2468-4d45-8acc-399828f58a24",
   "metadata": {},
   "source": [
    "### Step 5: Run Simulation"
   ]
  },
  {
   "cell_type": "code",
   "execution_count": 12,
   "id": "db5348e1-407c-4d19-b2b4-07c0cc4d6ad7",
   "metadata": {},
   "outputs": [
    {
     "ename": "NameError",
     "evalue": "name 'hfss' is not defined",
     "output_type": "error",
     "traceback": [
      "\u001b[1;31m---------------------------------------------------------------------------\u001b[0m",
      "\u001b[1;31mNameError\u001b[0m                                 Traceback (most recent call last)",
      "Cell \u001b[1;32mIn[12], line 2\u001b[0m\n\u001b[0;32m      1\u001b[0m \u001b[38;5;66;03m# Create Setup\u001b[39;00m\n\u001b[1;32m----> 2\u001b[0m setup \u001b[38;5;241m=\u001b[39m \u001b[43mhfss\u001b[49m\u001b[38;5;241m.\u001b[39mcreate_setup(\u001b[38;5;124m\"\u001b[39m\u001b[38;5;124mSetup1\u001b[39m\u001b[38;5;124m\"\u001b[39m)\n\u001b[0;32m      3\u001b[0m setup\u001b[38;5;241m.\u001b[39mprops[\u001b[38;5;124m\"\u001b[39m\u001b[38;5;124mFrequency\u001b[39m\u001b[38;5;124m\"\u001b[39m] \u001b[38;5;241m=\u001b[39m \u001b[38;5;124m\"\u001b[39m\u001b[38;5;124m1GHz\u001b[39m\u001b[38;5;124m\"\u001b[39m  \u001b[38;5;66;03m# Set desired frequency\u001b[39;00m\n\u001b[0;32m      4\u001b[0m setup\u001b[38;5;241m.\u001b[39mupdate()\n",
      "\u001b[1;31mNameError\u001b[0m: name 'hfss' is not defined"
     ]
    }
   ],
   "source": [
    "# Create Setup\n",
    "setup = hfss.create_setup(\"Setup1\")\n",
    "setup.props[\"Frequency\"] = \"1GHz\"  # Set desired frequency\n",
    "setup.update()\n",
    "\n",
    "# Create Frequency Sweep\n",
    "hfss.create_linear_count_sweep(\"Setup1\", \"Sweep1\", 1e9, 10e9, 1001)\n",
    "\n",
    "# Run Simulation\n",
    "hfss.analyze_setup(\"Setup1\")\n"
   ]
  },
  {
   "cell_type": "markdown",
   "id": "8ffd1bda-e64a-48ce-affb-76204b842c45",
   "metadata": {},
   "source": [
    "### Step 6: Post-Processing"
   ]
  },
  {
   "cell_type": "code",
   "execution_count": 14,
   "id": "6e1aca81-e7da-4010-982f-f54b6b549970",
   "metadata": {},
   "outputs": [
    {
     "ename": "NameError",
     "evalue": "name 'hfss' is not defined",
     "output_type": "error",
     "traceback": [
      "\u001b[1;31m---------------------------------------------------------------------------\u001b[0m",
      "\u001b[1;31mNameError\u001b[0m                                 Traceback (most recent call last)",
      "Cell \u001b[1;32mIn[14], line 2\u001b[0m\n\u001b[0;32m      1\u001b[0m \u001b[38;5;66;03m# Get S-parameters\u001b[39;00m\n\u001b[1;32m----> 2\u001b[0m s_params \u001b[38;5;241m=\u001b[39m \u001b[43mhfss\u001b[49m\u001b[38;5;241m.\u001b[39mpost\u001b[38;5;241m.\u001b[39mget_solution_data(expression\u001b[38;5;241m=\u001b[39m[\u001b[38;5;124m\"\u001b[39m\u001b[38;5;124mS(1,1)\u001b[39m\u001b[38;5;124m\"\u001b[39m, \u001b[38;5;124m\"\u001b[39m\u001b[38;5;124mS(2,1)\u001b[39m\u001b[38;5;124m\"\u001b[39m])\n\u001b[0;32m      4\u001b[0m \u001b[38;5;66;03m# Calculate Impedance Matching\u001b[39;00m\n\u001b[0;32m      5\u001b[0m s11 \u001b[38;5;241m=\u001b[39m s_params\u001b[38;5;241m.\u001b[39mdata_db(\u001b[38;5;124m\"\u001b[39m\u001b[38;5;124mS(1,1)\u001b[39m\u001b[38;5;124m\"\u001b[39m)  \u001b[38;5;66;03m# S11 parameter in dB\u001b[39;00m\n",
      "\u001b[1;31mNameError\u001b[0m: name 'hfss' is not defined"
     ]
    }
   ],
   "source": [
    "# Get S-parameters\n",
    "s_params = hfss.post.get_solution_data(expression=[\"S(1,1)\", \"S(2,1)\"])\n",
    "\n",
    "# Calculate Impedance Matching\n",
    "s11 = s_params.data_db(\"S(1,1)\")  # S11 parameter in dB\n",
    "s21 = s_params.data_db(\"S(2,1)\")  # S21 parameter in dB\n",
    "\n",
    "# Display Results\n",
    "import matplotlib.pyplot as plt\n",
    "\n",
    "freq = s_params.sweeps[\"Freq\"]\n",
    "plt.plot(freq, s11, label=\"S11\")\n",
    "plt.plot(freq, s21, label=\"S21\")\n",
    "plt.xlabel(\"Frequency (Hz)\")\n",
    "plt.ylabel(\"S-Parameters (dB)\")\n",
    "plt.legend()\n",
    "plt.show()\n"
   ]
  },
  {
   "cell_type": "code",
   "execution_count": null,
   "id": "81bed282-fc11-4370-bfd8-2d3919005e46",
   "metadata": {},
   "outputs": [],
   "source": []
  }
 ],
 "metadata": {
  "kernelspec": {
   "display_name": "Python 3 (ipykernel)",
   "language": "python",
   "name": "python3"
  },
  "language_info": {
   "codemirror_mode": {
    "name": "ipython",
    "version": 3
   },
   "file_extension": ".py",
   "mimetype": "text/x-python",
   "name": "python",
   "nbconvert_exporter": "python",
   "pygments_lexer": "ipython3",
   "version": "3.10.9"
  }
 },
 "nbformat": 4,
 "nbformat_minor": 5
}
