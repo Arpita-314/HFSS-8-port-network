{
 "cells": [
  {
   "cell_type": "markdown",
   "metadata": {},
   "source": [
    "\n",
    "# 2D Extractor: stripline analysis\n",
    "This example shows how you can use PyAEDT to create a differential stripline design in\n",
    "2D Extractor and run a simulation.\n"
   ]
  },
  {
   "cell_type": "markdown",
   "metadata": {},
   "source": [
    "## Perform required imports\n",
    "Perform required imports.\n",
    "\n"
   ]
  },
  {
   "cell_type": "code",
   "execution_count": 3,
   "metadata": {
    "collapsed": false,
    "jupyter": {
     "outputs_hidden": false
    }
   },
   "outputs": [
    {
     "ename": "ModuleNotFoundError",
     "evalue": "No module named 'pyaedt'",
     "output_type": "error",
     "traceback": [
      "\u001b[1;31m---------------------------------------------------------------------------\u001b[0m",
      "\u001b[1;31mModuleNotFoundError\u001b[0m                       Traceback (most recent call last)",
      "Cell \u001b[1;32mIn[3], line 2\u001b[0m\n\u001b[0;32m      1\u001b[0m \u001b[38;5;28;01mimport\u001b[39;00m \u001b[38;5;21;01mos\u001b[39;00m\n\u001b[1;32m----> 2\u001b[0m \u001b[38;5;28;01mimport\u001b[39;00m \u001b[38;5;21;01mpyaedt\u001b[39;00m\n",
      "\u001b[1;31mModuleNotFoundError\u001b[0m: No module named 'pyaedt'"
     ]
    }
   ],
   "source": [
    "import os\n",
    "import pyaedt"
   ]
  },
  {
   "cell_type": "markdown",
   "metadata": {},
   "source": [
    "## Set non-graphical mode\n",
    "Set non-graphical mode. \n",
    "You can set ``non_graphical`` either to ``True`` or ``False``.\n",
    "\n"
   ]
  },
  {
   "cell_type": "code",
   "execution_count": null,
   "metadata": {
    "collapsed": false,
    "jupyter": {
     "outputs_hidden": false
    }
   },
   "outputs": [],
   "source": [
    "non_graphical = False\n",
    "project_path = pyaedt.generate_unique_project_name()"
   ]
  },
  {
   "cell_type": "markdown",
   "metadata": {},
   "source": [
    "## Launch AEDT and 2D Extractor\n",
    "Launch AEDT 2023 R2 in graphical mode and launch 2D Extractor. This example\n",
    "uses SI units.\n",
    "\n"
   ]
  },
  {
   "cell_type": "code",
   "execution_count": null,
   "metadata": {
    "collapsed": false,
    "jupyter": {
     "outputs_hidden": false
    }
   },
   "outputs": [],
   "source": [
    "q = pyaedt.Q2d(projectname=project_path,\n",
    "               designname=\"differential_stripline\",\n",
    "               specified_version=\"2023.2\",\n",
    "               non_graphical=non_graphical,\n",
    "               new_desktop_session=True\n",
    "               )"
   ]
  },
  {
   "cell_type": "markdown",
   "metadata": {},
   "source": [
    "## Define variables\n",
    "Define variables.\n",
    "\n"
   ]
  },
  {
   "cell_type": "code",
   "execution_count": null,
   "metadata": {
    "collapsed": false,
    "jupyter": {
     "outputs_hidden": false
    }
   },
   "outputs": [],
   "source": [
    "e_factor = \"e_factor\"\n",
    "sig_w = \"sig_bot_w\"\n",
    "sig_gap = \"sig_gap\"\n",
    "co_gnd_w = \"gnd_w\"\n",
    "clearance = \"clearance\"\n",
    "cond_h = \"cond_h\"\n",
    "core_h = \"core_h\"\n",
    "pp_h = \"pp_h\"\n",
    "\n",
    "for var_name, var_value in {\n",
    "    \"e_factor\": \"2\",\n",
    "    \"sig_bot_w\": \"150um\",\n",
    "    \"sig_gap\": \"150um\",\n",
    "    \"gnd_w\": \"500um\",\n",
    "    \"clearance\": \"150um\",\n",
    "    \"cond_h\": \"17um\",\n",
    "    \"core_h\": \"150um\",\n",
    "    \"pp_h\": \"150um\",\n",
    "\n",
    "}.items():\n",
    "    q[var_name] = var_value\n",
    "\n",
    "delta_w_half = \"({0}/{1})\".format(cond_h, e_factor)\n",
    "sig_top_w = \"({1}-{0}*2)\".format(delta_w_half, sig_w)\n",
    "co_gnd_top_w = \"({1}-{0}*2)\".format(delta_w_half, co_gnd_w)\n",
    "model_w = \"{}*2+{}*2+{}*2+{}\".format(co_gnd_w, clearance, sig_w, sig_gap)"
   ]
  },
  {
   "cell_type": "markdown",
   "metadata": {},
   "source": [
    "## Create primitives\n",
    "Create primitives and define the layer heights.\n",
    "\n"
   ]
  },
  {
   "cell_type": "code",
   "execution_count": null,
   "metadata": {
    "collapsed": false,
    "jupyter": {
     "outputs_hidden": false
    }
   },
   "outputs": [],
   "source": [
    "layer_1_lh = 0\n",
    "layer_1_uh = cond_h\n",
    "layer_2_lh = layer_1_uh + \"+\" + core_h\n",
    "layer_2_uh = layer_2_lh + \"+\" + cond_h\n",
    "layer_3_lh = layer_2_uh + \"+\" + pp_h\n",
    "layer_3_uh = layer_3_lh + \"+\" + cond_h"
   ]
  },
  {
   "cell_type": "markdown",
   "metadata": {},
   "source": [
    "## Create positive signal\n",
    "Create a positive signal.\n",
    "\n"
   ]
  },
  {
   "cell_type": "code",
   "execution_count": null,
   "metadata": {
    "collapsed": false,
    "jupyter": {
     "outputs_hidden": false
    }
   },
   "outputs": [],
   "source": [
    "base_line_obj = q.modeler.create_polyline([[0, layer_2_lh, 0], [sig_w, layer_2_lh, 0]], name=\"signal_p\")\n",
    "top_line_obj = q.modeler.create_polyline([[0, layer_2_uh, 0], [sig_top_w, layer_2_uh, 0]])\n",
    "q.modeler.move([top_line_obj], [delta_w_half, 0, 0])\n",
    "q.modeler.connect([base_line_obj, top_line_obj])\n",
    "q.modeler.move([base_line_obj], [\"{}+{}\".format(co_gnd_w, clearance), 0, 0])\n",
    "\n",
    "# Create negative signal\n",
    "# ~~~~~~~~~~~~~~~~~~~~~~\n",
    "# Create a negative signal.\n",
    "\n",
    "base_line_obj = q.modeler.create_polyline(position_list=[[0, layer_2_lh, 0], [sig_w, layer_2_lh, 0]], name=\"signal_n\")\n",
    "top_line_obj = q.modeler.create_polyline(position_list=[[0, layer_2_uh, 0], [sig_top_w, layer_2_uh, 0]])\n",
    "q.modeler.move(objid=[top_line_obj], vector=[delta_w_half, 0, 0])\n",
    "q.modeler.connect([base_line_obj, top_line_obj])\n",
    "q.modeler.move(objid=[base_line_obj], vector=[\"{}+{}+{}+{}\".format(co_gnd_w, clearance, sig_w, sig_gap), 0, 0])"
   ]
  },
  {
   "cell_type": "markdown",
   "metadata": {},
   "source": [
    "## Create coplanar ground\n",
    "Create a coplanar ground.\n",
    "\n"
   ]
  },
  {
   "cell_type": "code",
   "execution_count": null,
   "metadata": {
    "collapsed": false,
    "jupyter": {
     "outputs_hidden": false
    }
   },
   "outputs": [],
   "source": [
    "base_line_obj = q.modeler.create_polyline(position_list=[[0, layer_2_lh, 0], [co_gnd_w, layer_2_lh, 0]],\n",
    "                                          name=\"co_gnd_left\")\n",
    "top_line_obj = q.modeler.create_polyline(position_list=[[0, layer_2_uh, 0], [co_gnd_top_w, layer_2_uh, 0]])\n",
    "q.modeler.move([top_line_obj], [delta_w_half, 0, 0])\n",
    "q.modeler.connect([base_line_obj, top_line_obj])\n",
    "\n",
    "base_line_obj = q.modeler.create_polyline(position_list=[[0, layer_2_lh, 0], [co_gnd_w, layer_2_lh, 0]],\n",
    "                                          name=\"co_gnd_right\")\n",
    "top_line_obj = q.modeler.create_polyline(position_list=[[0, layer_2_uh, 0], [co_gnd_top_w, layer_2_uh, 0]])\n",
    "q.modeler.move(objid=[top_line_obj], vector=[delta_w_half, 0, 0])\n",
    "q.modeler.connect([base_line_obj, top_line_obj])\n",
    "q.modeler.move(objid=[base_line_obj],\n",
    "               vector=[\"{}+{}*2+{}*2+{}\".format(co_gnd_w, clearance, sig_w, sig_gap), 0, 0])"
   ]
  },
  {
   "cell_type": "markdown",
   "metadata": {},
   "source": [
    "## Create reference ground plane\n",
    "Create a reference ground plane.\n",
    "\n"
   ]
  },
  {
   "cell_type": "code",
   "execution_count": null,
   "metadata": {
    "collapsed": false,
    "jupyter": {
     "outputs_hidden": false
    }
   },
   "outputs": [],
   "source": [
    "q.modeler.create_rectangle(position=[0, layer_1_lh, 0], dimension_list=[model_w, cond_h], name=\"ref_gnd_u\")\n",
    "q.modeler.create_rectangle(position=[0, layer_3_lh, 0], dimension_list=[model_w, cond_h], name=\"ref_gnd_l\")"
   ]
  },
  {
   "cell_type": "markdown",
   "metadata": {},
   "source": [
    "## Create dielectric\n",
    "Create a dielectric.\n",
    "\n"
   ]
  },
  {
   "cell_type": "code",
   "execution_count": null,
   "metadata": {
    "collapsed": false,
    "jupyter": {
     "outputs_hidden": false
    }
   },
   "outputs": [],
   "source": [
    "q.modeler.create_rectangle(\n",
    "    position=[0, layer_1_uh, 0], dimension_list=[model_w, core_h], name=\"Core\", matname=\"FR4_epoxy\"\n",
    ")\n",
    "q.modeler.create_rectangle(\n",
    "    position=[0, layer_2_uh, 0], dimension_list=[model_w, pp_h], name=\"Prepreg\", matname=\"FR4_epoxy\"\n",
    ")\n",
    "q.modeler.create_rectangle(\n",
    "    position=[0, layer_2_lh, 0], dimension_list=[model_w, cond_h], name=\"Filling\", matname=\"FR4_epoxy\"\n",
    ")"
   ]
  },
  {
   "cell_type": "markdown",
   "metadata": {},
   "source": [
    "## Assign conductors\n",
    "Assign conductors to the signal.\n",
    "\n"
   ]
  },
  {
   "cell_type": "code",
   "execution_count": null,
   "metadata": {
    "collapsed": false,
    "jupyter": {
     "outputs_hidden": false
    }
   },
   "outputs": [],
   "source": [
    "obj = q.modeler.get_object_from_name(\"signal_p\")\n",
    "q.assign_single_conductor(\n",
    "    name=obj.name, target_objects=[obj], conductor_type=\"SignalLine\", solve_option=\"SolveOnBoundary\", unit=\"mm\"\n",
    ")\n",
    "\n",
    "obj = q.modeler.get_object_from_name(\"signal_n\")\n",
    "q.assign_single_conductor(\n",
    "    name=obj.name, target_objects=[obj], conductor_type=\"SignalLine\", solve_option=\"SolveOnBoundary\", unit=\"mm\"\n",
    ")"
   ]
  },
  {
   "cell_type": "markdown",
   "metadata": {},
   "source": [
    "## Create reference ground\n",
    "Create a reference ground.\n",
    "\n"
   ]
  },
  {
   "cell_type": "code",
   "execution_count": null,
   "metadata": {
    "collapsed": false,
    "jupyter": {
     "outputs_hidden": false
    }
   },
   "outputs": [],
   "source": [
    "obj = [q.modeler.get_object_from_name(i) for i in [\"co_gnd_left\", \"co_gnd_right\", \"ref_gnd_u\", \"ref_gnd_l\"]]\n",
    "q.assign_single_conductor(\n",
    "    name=\"gnd\", target_objects=obj, conductor_type=\"ReferenceGround\", solve_option=\"SolveOnBoundary\", unit=\"mm\"\n",
    ")"
   ]
  },
  {
   "cell_type": "markdown",
   "metadata": {},
   "source": [
    "## Assign Huray model on signals\n",
    "Assign the Huray model on the signals.\n",
    "\n"
   ]
  },
  {
   "cell_type": "code",
   "execution_count": null,
   "metadata": {
    "collapsed": false,
    "jupyter": {
     "outputs_hidden": false
    }
   },
   "outputs": [],
   "source": [
    "obj = q.modeler.get_object_from_name(\"signal_p\")\n",
    "q.assign_huray_finitecond_to_edges(obj.edges, radius=\"0.5um\", ratio=3, name=\"b_\" + obj.name)\n",
    "\n",
    "obj = q.modeler.get_object_from_name(\"signal_n\")\n",
    "q.assign_huray_finitecond_to_edges(obj.edges, radius=\"0.5um\", ratio=3, name=\"b_\" + obj.name)"
   ]
  },
  {
   "cell_type": "markdown",
   "metadata": {},
   "source": [
    "## Define differential pair\n",
    "Define the differential pair.\n",
    "\n"
   ]
  },
  {
   "cell_type": "code",
   "execution_count": null,
   "metadata": {
    "collapsed": false,
    "jupyter": {
     "outputs_hidden": false
    }
   },
   "outputs": [],
   "source": [
    "matrix = q.insert_reduced_matrix(operation_name=q.MATRIXOPERATIONS.DiffPair, source_names=[\"signal_p\", \"signal_n\"],\n",
    "                                 rm_name=\"diff_pair\")"
   ]
  },
  {
   "cell_type": "markdown",
   "metadata": {},
   "source": [
    "## Create setup, analyze, and plot\n",
    "Create a setup, analyze, and plot solution data.\n",
    "\n"
   ]
  },
  {
   "cell_type": "code",
   "execution_count": null,
   "metadata": {
    "collapsed": false,
    "jupyter": {
     "outputs_hidden": false
    }
   },
   "outputs": [],
   "source": [
    "# Create a setup.\n",
    "setup = q.create_setup(setupname=\"new_setup\")\n",
    "\n",
    "# Add a sweep.\n",
    "sweep = setup.add_sweep(sweepname=\"sweep1\", sweeptype=\"Discrete\")\n",
    "sweep.props[\"RangeType\"] = \"LinearStep\"\n",
    "sweep.props[\"RangeStart\"] = \"1GHz\"\n",
    "sweep.props[\"RangeStep\"] = \"100MHz\"\n",
    "sweep.props[\"RangeEnd\"] = \"5GHz\"\n",
    "sweep.props[\"SaveFields\"] = False\n",
    "sweep.props[\"SaveRadFields\"] = False\n",
    "sweep.props[\"Type\"] = \"Interpolating\"\n",
    "sweep.update()\n",
    "\n",
    "# Analyze the nominal design and plot characteristic impedance.\n",
    "q.analyze()\n",
    "plot_sources = matrix.get_sources_for_plot(category=\"Z0\")\n",
    "a = q.post.get_solution_data(expressions=plot_sources, context=matrix.name)\n",
    "a.plot(snapshot_path=os.path.join(q.working_directory, \"plot.jpg\")) # Save plot as jpg\n",
    "\n",
    "# Add a parametric sweep and analyze.\n",
    "parametric = q.parametrics.add(sweep_var=\"sig_bot_w\", start_point=75, end_point=100, step=5,\n",
    "                               variation_type=\"LinearStep\")\n",
    "parametric.add_variation(sweep_var=\"sig_gap\", start_point=\"100um\", end_point=\"200um\", step=5,\n",
    "                         variation_type=\"LinearCount\")\n",
    "q.analyze_setup(name=parametric.name)"
   ]
  },
  {
   "cell_type": "markdown",
   "metadata": {},
   "source": [
    "## Save project and release AEDT\n",
    "Save the project and release AEDT.\n",
    "\n"
   ]
  },
  {
   "cell_type": "code",
   "execution_count": null,
   "metadata": {
    "collapsed": false,
    "jupyter": {
     "outputs_hidden": false
    }
   },
   "outputs": [],
   "source": [
    "q.save_project()\n",
    "q.release_desktop()"
   ]
  }
 ],
 "metadata": {
  "kernelspec": {
   "display_name": "Python 3 (ipykernel)",
   "language": "python",
   "name": "python3"
  },
  "language_info": {
   "codemirror_mode": {
    "name": "ipython",
    "version": 3
   },
   "file_extension": ".py",
   "mimetype": "text/x-python",
   "name": "python",
   "nbconvert_exporter": "python",
   "pygments_lexer": "ipython3",
   "version": "3.12.4"
  }
 },
 "nbformat": 4,
 "nbformat_minor": 4
}
