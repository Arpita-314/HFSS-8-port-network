"""
Converted to PyAEDT
Original Script Created on Sat Oct 19 12:22:28 2024
@author: go29lap
"""

from pyaedt import Hfss, Desktop

# Launch AEDT and open or create a project
desktop = Desktop(specified_version="2024.2", non_graphical=False, new_desktop_session=True)
project = desktop.project

# Open existing project or create a new one
if project is None:
    project = desktop.new_project()

# Open or create a design
design = project.active_design
if design is None:
    design = project.insert_design("HFSS", "HFSSDesign1", "DrivenModal")

hfss = Hfss(design)

# Set 3D Modeler as the active editor
modeler = hfss.modeler

# Define parameters
substrate_size = 4  # mm
substrate_thickness = 0.5  # mm
microcoil_width = 0.01  # mm
microcoil_thickness = 0.0002  # mm

# Create ground plane
modeler.create_box([-2, -2, 0], [4, 4, 0.001], 
                   name="GndPlane", matname="copper", solve_inside=False)

# Create diamond substrate
modeler.create_box([-2, -2, 0], [4, 4, 0.5], 
                   name="Diamond", matname="diamond", solve_inside=True)

# Import the DXF file
modeler.import_dxf("C:/Users/go29lap/code/ansys/microcoils_v3.dxf", scale=0.001)

# Get all imported sheet objects
all_objects = modeler.get_objects_in_group("Sheets")

# Define the height increase
height_increase = "0.5mm"

# Move each imported object upward
for obj in all_objects:
    if obj.startswith("0"):
        modeler.move(obj, [0, 0, height_increase])

# Unite the imported sheets
sheet_objects = [obj for obj in all_objects if obj.startswith("0")]
if len(sheet_objects) > 1:
    modeler.unite(sheet_objects)

# Create wave ports
port_positions = [
    (2, -1.170478567), (1.201158763, 2), (0, 2),
    (-1.019214464, 2), (-2, 1.201158763),
    (-2, -1.019214464), (-1.201158763, -2),
    (1.050351405, -2)
]

for i, (x, y) in enumerate(port_positions):
    port_name = "WavePort_{}".format(i + 1)
    modeler.create_rectangle([x - microcoil_width / 2, y - microcoil_width / 2, height_increase], 
                             [microcoil_width, microcoil_width], name=port_name, matname="vacuum")

# Assign wave ports
for i, (x, y) in enumerate(port_positions):
    hfss.assign_wave_port_to_sheet("WavePort_{}".format(i + 1), 
                                   [x, y, height_increase],
                                   [x, y + microcoil_width, height_increase])

# Create radiation boundary
hfss.assign_radiation_boundary_to_box("RadiationBoundary", 
                                      [-substrate_size / 2 - 0.3, -substrate_size / 2 - 0.3, 0], 
                                      [substrate_size + 0.6, substrate_size + 0.6, 
                                       substrate_thickness + 1 + 0.6])

# Mesh operations
hfss.mesh.assign_length_mesh_operation("Length_Microcoils", "0", max_length=microcoil_width)
for i in range(1, 9):
    hfss.mesh.assign_length_mesh_operation("Length_WavePort_{}".format(i), "WavePort_{}".format(i), max_length=microcoil_width / 5)

# Setup analysis
hfss.create_setup("Setup1")
hfss.edit_setup("Setup1", {"Frequency": "25MHz", "MaxDeltaS": 0.02, "MaximumPasses": 6, "MinimumPasses": 1})

# Frequency sweep
hfss.insert_frequency_sweep("Setup1", "Sweep", start_ghz=0.001, stop_ghz=0.05, step_ghz=0.001, sweep_type="Interpolating")

# Create S-parameter and Z-parameter reports
for param in ["S(1,1)", "S(2,1)", "S(2,2)"]:
    hfss.post.create_report("S_Parameters", "Setup1", "Sweep", expressions=["dB({})".format(param)])

for param in [["Z(1,1)", "Z(1,1)"], ["Z(2,1)", "Z(2,1)"]]:
    hfss.post.create_report("Z_Parameters", "Setup1", "Sweep", expressions=["re({})".format(param[0]), "im({})".format(param[1])])

# Save the project and run analysis
project.save_project()
hfss.analyze_setup("Setup1")

# Close AEDT session
desktop.release_desktop()
